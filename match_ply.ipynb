{
 "cells": [
  {
   "cell_type": "code",
   "execution_count": 1,
   "metadata": {},
   "outputs": [
    {
     "name": "stdout",
     "output_type": "stream",
     "text": [
      "Requirement already satisfied: plyfile in c:\\users\\albert\\.conda\\envs\\pytorch\\lib\\site-packages (1.0.1)\n",
      "Requirement already satisfied: numpy>=1.17 in c:\\users\\albert\\.conda\\envs\\pytorch\\lib\\site-packages (from plyfile) (1.24.1)\n",
      "Note: you may need to restart the kernel to use updated packages.\n"
     ]
    }
   ],
   "source": [
    "pip install plyfile"
   ]
  },
  {
   "cell_type": "code",
   "execution_count": 1,
   "metadata": {},
   "outputs": [
    {
     "name": "stdout",
     "output_type": "stream",
     "text": [
      "筛选完成，结果已保存到 filtered_ply_files.csv 文件中。\n"
     ]
    }
   ],
   "source": [
    "import os\n",
    "from plyfile import PlyData\n",
    "import csv\n",
    "\n",
    "# 初始化结果列表\n",
    "results = []\n",
    "\n",
    "# 遍历目录中的所有文件\n",
    "for filename in os.listdir('D:\\\\wytham_winter_trees_6ha'):\n",
    "    if filename.endswith('.ply'):\n",
    "        filepath = os.path.join('D:\\\\wytham_winter_trees_6ha', filename)\n",
    "        \n",
    "        # 读取 PLY 文件\n",
    "        plydata = PlyData.read(filepath)\n",
    "        \n",
    "        # 获取点云数据\n",
    "        vertex = plydata['vertex']\n",
    "        x = vertex['x']\n",
    "        y = vertex['y']\n",
    "        \n",
    "        # 初始化最大和最小坐标值\n",
    "        min_x = float('inf')\n",
    "        max_x = float('-inf')\n",
    "        min_y = float('inf')\n",
    "        max_y = float('-inf')\n",
    "        \n",
    "        # 标记是否满足条件\n",
    "        satisfy_condition = False\n",
    "        \n",
    "        # 遍历点云中的所有点\n",
    "        for xi, yi in zip(x, y):\n",
    "            if -9 <= xi <= 147 and 95 <= yi <= 219:\n",
    "                satisfy_condition = True\n",
    "                min_x = min(min_x, xi)\n",
    "                max_x = max(max_x, xi)\n",
    "                min_y = min(min_y, yi)\n",
    "                max_y = max(max_y, yi)\n",
    "        \n",
    "        # 如果满足条件，将结果添加到列表中\n",
    "        if satisfy_condition:\n",
    "            results.append([filename, min_x, max_x, min_y, max_y])\n",
    "\n",
    "# 将结果写入 CSV 文件\n",
    "with open('D:\\\\wytham_winter_trees_6ha\\\\filtered_ply_files.csv', 'w', newline='') as csvfile:\n",
    "    csvwriter = csv.writer(csvfile)\n",
    "    csvwriter.writerow(['Filename', 'Min_X', 'Max_X', 'Min_Y', 'Max_Y'])\n",
    "    for row in results:\n",
    "        csvwriter.writerow(row)\n",
    "\n",
    "print(\"筛选完成，结果已保存到 filtered_ply_files.csv 文件中。\")\n"
   ]
  },
  {
   "cell_type": "code",
   "execution_count": 5,
   "metadata": {},
   "outputs": [
    {
     "name": "stdout",
     "output_type": "stream",
     "text": [
      "Files have been copied to D:\\wyt_winter_1.4ha\n"
     ]
    }
   ],
   "source": [
    "import csv\n",
    "import os\n",
    "import shutil\n",
    "\n",
    "# Source and destination directories\n",
    "source_dir = 'D:\\\\wytham_winter_trees_6ha'\n",
    "dest_dir = 'D:\\\\wyt_winter_1.4ha'\n",
    "\n",
    "# Create destination directory if it doesn't exist\n",
    "if not os.path.exists(dest_dir):\n",
    "    os.makedirs(dest_dir)\n",
    "\n",
    "# Read the filtered_ply_files.csv file\n",
    "with open('D:\\\\wytham_winter_trees_6ha\\\\filtered_ply_files.csv', 'r') as csvfile:\n",
    "    csvreader = csv.reader(csvfile)\n",
    "    header = next(csvreader)  # Skip the header row\n",
    "    \n",
    "    # Loop through each row in the CSV file\n",
    "    for row in csvreader:\n",
    "        filename = row[0]  # The filename is in the first column\n",
    "        \n",
    "        # Construct the full path of the source and destination files\n",
    "        source_file_path = os.path.join(source_dir, filename)\n",
    "        dest_file_path = os.path.join(dest_dir, filename)\n",
    "        \n",
    "        # Copy the file\n",
    "        shutil.copy2(source_file_path, dest_file_path)\n",
    "\n",
    "print(f\"Files have been copied to {dest_dir}\")"
   ]
  },
  {
   "cell_type": "code",
   "execution_count": 3,
   "metadata": {},
   "outputs": [
    {
     "name": "stdout",
     "output_type": "stream",
     "text": [
      "e:\\Microsoft VS Code\n"
     ]
    }
   ],
   "source": [
    "import os\n",
    "print(os.getcwd())\n"
   ]
  },
  {
   "cell_type": "code",
   "execution_count": 6,
   "metadata": {},
   "outputs": [
    {
     "name": "stdout",
     "output_type": "stream",
     "text": [
      "匹配完成，结果已保存到 matched_ply_files.csv 文件中。\n"
     ]
    }
   ],
   "source": [
    "import os\n",
    "import csv\n",
    "from plyfile import PlyData\n",
    "import numpy as np\n",
    "\n",
    "def get_center(filepath):\n",
    "    plydata = PlyData.read(filepath)\n",
    "    vertex = plydata['vertex']\n",
    "    x = vertex['x']\n",
    "    y = vertex['y']\n",
    "    z = vertex['z']\n",
    "    center = np.mean(x), np.mean(y), np.mean(z)\n",
    "    return center\n",
    "\n",
    "# 初始化结果列表\n",
    "results = []\n",
    "\n",
    "# 读取 876 个点云的信息\n",
    "source_dir = 'E:\\\\A files\\\\Master\\\\Dissertation\\\\Samples\\\\WYT\\\\DATA_clouds_ply\\\\DATA_clouds_ply'\n",
    "source_files = [f for f in os.listdir(source_dir) if f.endswith('.ply')]\n",
    "\n",
    "source_centers = {}\n",
    "for filename in source_files:\n",
    "    filepath = os.path.join(source_dir, filename)\n",
    "    center = get_center(filepath)\n",
    "    source_centers[filename] = center\n",
    "\n",
    "# 读取 1313 个点云的信息\n",
    "target_dir = 'D:\\\\wyt_winter_1.4ha'\n",
    "target_files = [f for f in os.listdir(target_dir) if f.endswith('.ply')]\n",
    "\n",
    "# 匹配点云\n",
    "threshold = 1.0  # 设置一个阈值，用于判断两个中心是否“接近”\n",
    "\n",
    "for source_name, source_center in source_centers.items():\n",
    "    matched_files = []\n",
    "    \n",
    "    for target_name in target_files:\n",
    "        target_path = os.path.join(target_dir, target_name)\n",
    "        target_center = get_center(target_path)\n",
    "        \n",
    "        distance = np.linalg.norm(np.array(source_center) - np.array(target_center))\n",
    "        \n",
    "        if distance < threshold:\n",
    "            matched_files.append(target_name)\n",
    "    \n",
    "    results.append([source_name] + matched_files)\n",
    "\n",
    "# 将结果写入 CSV 文件\n",
    "with open('matched_ply_files.csv', 'w', newline='') as csvfile:\n",
    "    csvwriter = csv.writer(csvfile)\n",
    "    csvwriter.writerow(['Source File', 'Matched Files'])\n",
    "    for row in results:\n",
    "        csvwriter.writerow(row)\n",
    "\n",
    "print(\"匹配完成，结果已保存到 matched_ply_files.csv 文件中。\")\n"
   ]
  },
  {
   "cell_type": "code",
   "execution_count": 7,
   "metadata": {},
   "outputs": [
    {
     "name": "stdout",
     "output_type": "stream",
     "text": [
      "当前工作目录是：e:\\Microsoft VS Code\n",
      "CSV文件将被保存在：e:\\Microsoft VS Code\\matched_ply_files.csv\n"
     ]
    }
   ],
   "source": [
    "import os\n",
    "\n",
    "# 获取当前工作目录\n",
    "current_directory = os.getcwd()\n",
    "\n",
    "# 打印当前工作目录\n",
    "print(f\"当前工作目录是：{current_directory}\")\n",
    "\n",
    "# 这将是CSV文件的完整路径\n",
    "csv_file_path = os.path.join(current_directory, 'matched_ply_files.csv')\n",
    "\n",
    "# 打印CSV文件的完整路径\n",
    "print(f\"CSV文件将被保存在：{csv_file_path}\")\n"
   ]
  }
 ],
 "metadata": {
  "kernelspec": {
   "display_name": "pytorch",
   "language": "python",
   "name": "pytorch"
  },
  "language_info": {
   "codemirror_mode": {
    "name": "ipython",
    "version": 3
   },
   "file_extension": ".py",
   "mimetype": "text/x-python",
   "name": "python",
   "nbconvert_exporter": "python",
   "pygments_lexer": "ipython3",
   "version": "3.9.16"
  },
  "orig_nbformat": 4
 },
 "nbformat": 4,
 "nbformat_minor": 2
}
